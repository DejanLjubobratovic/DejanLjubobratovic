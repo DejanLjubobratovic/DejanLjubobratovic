{
  "nbformat": 4,
  "nbformat_minor": 0,
  "metadata": {
    "colab": {
      "provenance": [],
      "authorship_tag": "ABX9TyPrordgBFdAFtmD9G6ihISy",
      "include_colab_link": true
    },
    "kernelspec": {
      "name": "ir",
      "display_name": "R"
    },
    "language_info": {
      "name": "R"
    }
  },
  "cells": [
    {
      "cell_type": "markdown",
      "metadata": {
        "id": "view-in-github",
        "colab_type": "text"
      },
      "source": [
        "<a href=\"https://colab.research.google.com/github/DejanLjubobratovic/DejanLjubobratovic/blob/main/roulette.ipynb\" target=\"_parent\"><img src=\"https://colab.research.google.com/assets/colab-badge.svg\" alt=\"Open In Colab\"/></a>"
      ]
    },
    {
      "cell_type": "code",
      "source": [
        "#install.packages(\"crayon\")\n",
        "library('crayon')"
      ],
      "metadata": {
        "colab": {
          "base_uri": "https://localhost:8080/"
        },
        "id": "RyVWyw_futKX",
        "outputId": "e0f07796-d507-47e9-f8f1-4f8c507d81bc"
      },
      "execution_count": 1,
      "outputs": [
        {
          "output_type": "stream",
          "name": "stderr",
          "text": [
            "Installing package into ‘/usr/local/lib/R/site-library’\n",
            "(as ‘lib’ is unspecified)\n",
            "\n"
          ]
        }
      ]
    },
    {
      "cell_type": "code",
      "execution_count": 136,
      "metadata": {
        "colab": {
          "base_uri": "https://localhost:8080/"
        },
        "id": "RWwIa-BZucSR",
        "outputId": "8e2f95e1-7a92-45e9-bd47-78b302a0e495"
      },
      "outputs": [
        {
          "output_type": "stream",
          "name": "stdout",
          "text": [
            "\u001b[31m##crveni: 13 \n",
            "\u001b[39m\u001b[31m##crveni: 14 \n",
            "\u001b[39m\u001b[31m##crveni: 15 \n",
            "\u001b[39m\u001b[31m\n",
            "Novac:  1010 \n",
            "\u001b[39m\u001b[31m##crveni: 13 \n",
            "\u001b[39m\u001b[31m\n",
            "Novac:  1020 \n",
            "\u001b[39m\u001b[34m##crni:  13 \n",
            "\u001b[39m\u001b[34m\n",
            "Novac:  1030 \n",
            "\u001b[39m\u001b[31m##crveni: 13 \n",
            "\u001b[39m\u001b[31m\n",
            "Novac:  1040 \n",
            "\u001b[39m\u001b[31m##crveni: 13 \n",
            "\u001b[39m\u001b[31m\n",
            "Novac:  1050 \n",
            "\u001b[39m\u001b[34m##crni:  13 \n",
            "\u001b[39m\u001b[34m##crni:  14 \n",
            "\u001b[39m\u001b[34m\n",
            "Novac:  1060 \n",
            "\u001b[39m\u001b[31m##crveni: 13 \n",
            "\u001b[39m\u001b[31m\n",
            "Novac:  1070 \n",
            "\u001b[39m\u001b[31m##crveni: 13 \n",
            "\u001b[39m\u001b[31m##crveni: 14 \n",
            "\u001b[39m\u001b[31m##crveni: 15 \n",
            "\u001b[39m\u001b[31m\n",
            "Novac:  1080 \n",
            "\u001b[39m\u001b[34m##crni:  13 \n",
            "\u001b[39m\u001b[34m##crni:  14 \n",
            "\u001b[39m\u001b[34m\n",
            "Novac:  1090 \n",
            "\u001b[39m\u001b[34m##crni:  13 \n",
            "\u001b[39m\u001b[34m##crni:  14 \n",
            "\u001b[39m\u001b[34m\n",
            "Novac:  1100 \n",
            "\u001b[39m\u001b[31m##crveni: 13 \n",
            "\u001b[39m\u001b[31m##crveni: 14 \n",
            "\u001b[39m\u001b[31m##crveni: 15 \n",
            "\u001b[39m\u001b[31m##crveni: 16 \n",
            "\u001b[39m\u001b[31m##crveni: 17 \n",
            "\u001b[39m\u001b[31m\n",
            "Novac:  1110 \n",
            "\u001b[39m\u001b[31m##crveni: 13 \n",
            "\u001b[39m\u001b[31m\n",
            "Novac:  1120 \n",
            "\u001b[39m\u001b[31m##crveni: 13 \n",
            "\u001b[39m\u001b[31m##crveni: 14 \n",
            "\u001b[39m\u001b[31m\n",
            "Novac:  1130 \n",
            "\u001b[39m\u001b[34m##crni:  13 \n",
            "\u001b[39m\u001b[34m##crni:  14 \n",
            "\u001b[39m\u001b[34m##crni:  15 \n",
            "\u001b[39m\u001b[34m##crni:  16 \n",
            "\u001b[39m\u001b[34m##crni:  17 \n",
            "\u001b[39m\u001b[34m##crni:  18 \n",
            "\u001b[39m\u001b[34m\n",
            "Novac:  1140 \n",
            "\u001b[39m\u001b[31m##crveni: 13 \n",
            "\u001b[39m\u001b[31m##crveni: 14 \n",
            "\u001b[39m\u001b[31m##crveni: 15 \n",
            "\u001b[39m\u001b[31m##crveni: 16 \n",
            "\u001b[39m\u001b[31m\n",
            "Novac:  1150 \n",
            "\u001b[39m\u001b[31m##crveni: 13 \n",
            "\u001b[39m\u001b[31m##crveni: 14 \n",
            "\u001b[39m\u001b[31m##crveni: 15 \n",
            "\u001b[39m\u001b[31m##crveni: 16 \n",
            "\u001b[39m\u001b[31m\n",
            "Novac:  1160 \n",
            "\u001b[39m\u001b[34m##crni:  13 \n",
            "\u001b[39m\u001b[34m\n",
            "Novac:  1170 \n",
            "\u001b[39m\u001b[34m##crni:  13 \n",
            "\u001b[39m\u001b[34m##crni:  14 \n",
            "\u001b[39m\u001b[34m##crni:  15 \n",
            "\u001b[39m\u001b[34m\n",
            "Novac:  1180 \n",
            "\u001b[39m"
          ]
        }
      ],
      "source": [
        "novac=1000\n",
        "ulog=10\n",
        "crvulog=crnulog=0\n",
        "prag=13\n",
        "crv=c(1,3,5,7,9,12,14,16,18,19,21,23,25,27,30,32,34,36)\n",
        "crn=c(2,4,6,8,10,11,13,15,17,20,22,24,26,28,29,31,33,35)\n",
        "for(a in 1:100000)\n",
        "{\n",
        "  #if(a%%12==0) cat(\"\\n\")\n",
        "  broj=sample(37,1)-1\n",
        "  if(broj==0) {\n",
        "    #cat(green(broj, \" \"))\n",
        "    }\n",
        "  else if(broj%in%crv) {\n",
        "    #cat(red(broj, \" \"))\n",
        "    crveni=crveni+1\n",
        "    crni=0\n",
        "    if(crveni==1 && crnulog>0) {\n",
        "      novac=novac+crnulog+crnulog\n",
        "      cat(blue(\"\\nNovac: \", novac, \"\\n\"))\n",
        "      crnulog=0}\n",
        "    if (crveni>=prag) {\n",
        "      if (crveni==prag) {\n",
        "        crvulog=ulog\n",
        "        novac=novac-crvulog}\n",
        "        else{\n",
        "          crvulog=crvulog*2\n",
        "          novac=novac-crvulog\n",
        "          if(novac<0) {\n",
        "            cat(yellow(\"\\nBANKROT!!\\n\"))\n",
        "            break}}\n",
        "      cat(red(\"##crveni:\",crveni,\"\\n\" ))} \n",
        "      }\n",
        "    else {\n",
        "    #cat(blue(broj), \" \") \n",
        "    crni=crni+1\n",
        "    crveni=0\n",
        "    if(crni==1 && crvulog>0) {\n",
        "      novac=novac+crvulog+crvulog\n",
        "      cat(red(\"\\nNovac: \", novac,\"\\n\"))\n",
        "      crvulog=0}\n",
        "    if(crni>=prag){ \n",
        "      if(crni==prag){\n",
        "        crnulog=ulog\n",
        "        novac=novac-crnulog}\n",
        "        else{\n",
        "          crnulog=crnulog*2\n",
        "          novac=novac-crnulog\n",
        "          if(novac<0){ \n",
        "            cat(yellow(\"\\nBANKROT!!\"))\n",
        "            break}}\n",
        "        cat(blue(\"##crni: \", crni,\"\\n\"))}\n",
        "    }\n",
        "}"
      ]
    },
    {
      "cell_type": "code",
      "source": [],
      "metadata": {
        "id": "957STdpYGg2c"
      },
      "execution_count": null,
      "outputs": []
    }
  ]
}